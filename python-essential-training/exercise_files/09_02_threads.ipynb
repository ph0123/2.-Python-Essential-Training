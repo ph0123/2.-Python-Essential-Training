{
 "cells": [
  {
   "cell_type": "code",
   "execution_count": 1,
   "id": "48a15793",
   "metadata": {
    "scrolled": true
   },
   "outputs": [],
   "source": [
    "import threading\n",
    "import time"
   ]
  },
  {
   "cell_type": "markdown",
   "id": "5be113b0",
   "metadata": {},
   "source": [
    "## Threads"
   ]
  },
  {
   "cell_type": "code",
   "execution_count": 3,
   "id": "230c796a",
   "metadata": {
    "scrolled": true
   },
   "outputs": [
    {
     "name": "stdout",
     "output_type": "stream",
     "text": [
      "CPU times: total: 0 ns\n",
      "Wall time: 5.03 s\n"
     ]
    },
    {
     "data": {
      "text/plain": [
       "[0, 1, 4, 9, 16]"
      ]
     },
     "execution_count": 3,
     "metadata": {},
     "output_type": "execute_result"
    }
   ],
   "source": [
    "%%time\n",
    "def longSquare(num):\n",
    "    time.sleep(1)\n",
    "    return num**2\n",
    "\n",
    "[longSquare(n) for n in range(0, 5)]\n"
   ]
  },
  {
   "cell_type": "code",
   "execution_count": 4,
   "id": "f105891d",
   "metadata": {},
   "outputs": [],
   "source": [
    "t1 = threading.Thread(target=longSquare, args=(1,))\n",
    "t2 = threading.Thread(target=longSquare, args=(2,))\n",
    "\n",
    "t1.start()\n",
    "t2.start()\n",
    "\n",
    "t1.join()\n",
    "t2.join()\n"
   ]
  },
  {
   "cell_type": "code",
   "execution_count": 5,
   "id": "5be33021",
   "metadata": {},
   "outputs": [
    {
     "name": "stdout",
     "output_type": "stream",
     "text": [
      "{2: 4, 1: 1}\n"
     ]
    }
   ],
   "source": [
    "\n",
    "\n",
    "def longSquare(num, results):\n",
    "    time.sleep(1)\n",
    "    results[num] = num**2\n",
    "\n",
    "results = {}\n",
    "t1 = threading.Thread(target=longSquare, args=(1,results))\n",
    "t2 = threading.Thread(target=longSquare, args=(2,results))\n",
    "\n",
    "t1.start()\n",
    "t2.start()\n",
    "\n",
    "t1.join()\n",
    "t2.join()\n",
    "\n",
    "print(results)\n"
   ]
  },
  {
   "cell_type": "code",
   "execution_count": 6,
   "id": "6f9a6201",
   "metadata": {},
   "outputs": [
    {
     "name": "stdout",
     "output_type": "stream",
     "text": [
      "CPU times: total: 0 ns\n",
      "Wall time: 0 ns\n",
      "{14: 196, 19: 361, 11: 121, 15: 225, 12: 144, 10: 100, 7: 49, 4: 16, 0: 0, 13: 169, 2: 4, 6: 36, 9: 81, 31: 961, 32: 1024, 5: 25, 34: 1156, 1: 1, 29: 841, 30: 900, 24: 576, 22: 484, 23: 529, 21: 441, 16: 256, 33: 1089, 26: 676, 25: 625, 18: 324, 17: 289, 36: 1296, 27: 729, 28: 784, 20: 400, 35: 1225, 8: 64, 3: 9, 37: 1369, 80: 6400, 42: 1764, 38: 1444, 95: 9025, 94: 8836, 93: 8649, 85: 7225, 92: 8464, 91: 8281, 86: 7396, 88: 7744, 87: 7569, 84: 7056, 83: 6889, 79: 6241, 89: 7921, 77: 5929, 81: 6561, 74: 5476, 73: 5329, 76: 5776, 82: 6724, 75: 5625, 40: 1600, 67: 4489, 71: 5041, 66: 4356, 78: 6084, 68: 4624, 65: 4225, 72: 5184, 64: 4096, 70: 4900, 63: 3969, 60: 3600, 59: 3481, 69: 4761, 56: 3136, 58: 3364, 57: 3249, 62: 3844, 61: 3721, 55: 3025, 54: 2916, 52: 2704, 51: 2601, 48: 2304, 50: 2500, 53: 2809, 49: 2401, 46: 2116, 47: 2209, 44: 1936, 45: 2025, 43: 1849, 41: 1681, 99: 9801, 98: 9604, 90: 8100, 39: 1521, 97: 9409, 96: 9216}\n"
     ]
    }
   ],
   "source": [
    "\n",
    "%time\n",
    "def longSquare(num, results):\n",
    "    time.sleep(1)\n",
    "    results[num] = num**2\n",
    "\n",
    "results = {}\n",
    "threads = [threading.Thread(target=longSquare, args=(n, results)) for n in range(0, 100)]\n",
    "[t.start() for t in threads]\n",
    "[t.join() for t in threads]\n",
    "print(results)\n"
   ]
  },
  {
   "cell_type": "code",
   "execution_count": null,
   "id": "c63a0969",
   "metadata": {},
   "outputs": [],
   "source": []
  }
 ],
 "metadata": {
  "kernelspec": {
   "display_name": "Python 3.8.11 ('ML')",
   "language": "python",
   "name": "python3"
  },
  "language_info": {
   "codemirror_mode": {
    "name": "ipython",
    "version": 3
   },
   "file_extension": ".py",
   "mimetype": "text/x-python",
   "name": "python",
   "nbconvert_exporter": "python",
   "pygments_lexer": "ipython3",
   "version": "3.8.11"
  },
  "vscode": {
   "interpreter": {
    "hash": "10c605a39ba1d0bb696105a85276d200a87e36acba5a0bef6dcdd9b73afc6e7a"
   }
  }
 },
 "nbformat": 4,
 "nbformat_minor": 5
}

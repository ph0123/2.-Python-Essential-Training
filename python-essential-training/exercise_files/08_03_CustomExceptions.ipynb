{
 "cells": [
  {
   "cell_type": "markdown",
   "id": "b0f022fe",
   "metadata": {},
   "source": [
    "## Custom Exceptions"
   ]
  },
  {
   "cell_type": "code",
   "execution_count": 1,
   "id": "a15ba290",
   "metadata": {},
   "outputs": [
    {
     "ename": "CustomException",
     "evalue": "You called the causeError function!",
     "output_type": "error",
     "traceback": [
      "\u001b[1;31m---------------------------------------------------------------------------\u001b[0m",
      "\u001b[1;31mCustomException\u001b[0m                           Traceback (most recent call last)",
      "\u001b[1;32mc:\\Users\\cnp\\OneDrive - Högskolan Dalarna\\learn\\skills\\Python developer\\2. Python Essential Training\\python-essential-training\\exercise_files\\08_03_CustomExceptions.ipynb Cell 2\u001b[0m in \u001b[0;36m<cell line: 8>\u001b[1;34m()\u001b[0m\n\u001b[0;32m      <a href='vscode-notebook-cell:/c%3A/Users/cnp/OneDrive%20-%20H%C3%B6gskolan%20Dalarna/learn/skills/Python%20developer/2.%20Python%20Essential%20Training/python-essential-training/exercise_files/08_03_CustomExceptions.ipynb#W1sZmlsZQ%3D%3D?line=4'>5</a>\u001b[0m \u001b[39mdef\u001b[39;00m \u001b[39mcauseError\u001b[39m():\n\u001b[0;32m      <a href='vscode-notebook-cell:/c%3A/Users/cnp/OneDrive%20-%20H%C3%B6gskolan%20Dalarna/learn/skills/Python%20developer/2.%20Python%20Essential%20Training/python-essential-training/exercise_files/08_03_CustomExceptions.ipynb#W1sZmlsZQ%3D%3D?line=5'>6</a>\u001b[0m     \u001b[39mraise\u001b[39;00m CustomException(\u001b[39m'\u001b[39m\u001b[39mYou called the causeError function!\u001b[39m\u001b[39m'\u001b[39m)\n\u001b[1;32m----> <a href='vscode-notebook-cell:/c%3A/Users/cnp/OneDrive%20-%20H%C3%B6gskolan%20Dalarna/learn/skills/Python%20developer/2.%20Python%20Essential%20Training/python-essential-training/exercise_files/08_03_CustomExceptions.ipynb#W1sZmlsZQ%3D%3D?line=7'>8</a>\u001b[0m causeError()\n",
      "\u001b[1;32mc:\\Users\\cnp\\OneDrive - Högskolan Dalarna\\learn\\skills\\Python developer\\2. Python Essential Training\\python-essential-training\\exercise_files\\08_03_CustomExceptions.ipynb Cell 2\u001b[0m in \u001b[0;36mcauseError\u001b[1;34m()\u001b[0m\n\u001b[0;32m      <a href='vscode-notebook-cell:/c%3A/Users/cnp/OneDrive%20-%20H%C3%B6gskolan%20Dalarna/learn/skills/Python%20developer/2.%20Python%20Essential%20Training/python-essential-training/exercise_files/08_03_CustomExceptions.ipynb#W1sZmlsZQ%3D%3D?line=4'>5</a>\u001b[0m \u001b[39mdef\u001b[39;00m \u001b[39mcauseError\u001b[39m():\n\u001b[1;32m----> <a href='vscode-notebook-cell:/c%3A/Users/cnp/OneDrive%20-%20H%C3%B6gskolan%20Dalarna/learn/skills/Python%20developer/2.%20Python%20Essential%20Training/python-essential-training/exercise_files/08_03_CustomExceptions.ipynb#W1sZmlsZQ%3D%3D?line=5'>6</a>\u001b[0m     \u001b[39mraise\u001b[39;00m CustomException(\u001b[39m'\u001b[39m\u001b[39mYou called the causeError function!\u001b[39m\u001b[39m'\u001b[39m)\n",
      "\u001b[1;31mCustomException\u001b[0m: You called the causeError function!"
     ]
    }
   ],
   "source": [
    "class CustomException(Exception):\n",
    "    pass\n",
    "\n",
    "\n",
    "def causeError():\n",
    "    raise CustomException('You called the causeError function!')\n",
    "    \n",
    "causeError()"
   ]
  },
  {
   "cell_type": "markdown",
   "id": "b0cae9c9",
   "metadata": {},
   "source": [
    "### Adding Attributes"
   ]
  },
  {
   "cell_type": "code",
   "execution_count": 2,
   "id": "1b6caf83",
   "metadata": {},
   "outputs": [
    {
     "ename": "ServerError",
     "evalue": "Status code: 500 and message is: The server messed up!",
     "output_type": "error",
     "traceback": [
      "\u001b[1;31m---------------------------------------------------------------------------\u001b[0m",
      "\u001b[1;31mServerError\u001b[0m                               Traceback (most recent call last)",
      "\u001b[1;32mc:\\Users\\cnp\\OneDrive - Högskolan Dalarna\\learn\\skills\\Python developer\\2. Python Essential Training\\python-essential-training\\exercise_files\\08_03_CustomExceptions.ipynb Cell 4\u001b[0m in \u001b[0;36m<cell line: 18>\u001b[1;34m()\u001b[0m\n\u001b[0;32m     <a href='vscode-notebook-cell:/c%3A/Users/cnp/OneDrive%20-%20H%C3%B6gskolan%20Dalarna/learn/skills/Python%20developer/2.%20Python%20Essential%20Training/python-essential-training/exercise_files/08_03_CustomExceptions.ipynb#W3sZmlsZQ%3D%3D?line=14'>15</a>\u001b[0m \u001b[39mdef\u001b[39;00m \u001b[39mraiseServerError\u001b[39m():\n\u001b[0;32m     <a href='vscode-notebook-cell:/c%3A/Users/cnp/OneDrive%20-%20H%C3%B6gskolan%20Dalarna/learn/skills/Python%20developer/2.%20Python%20Essential%20Training/python-essential-training/exercise_files/08_03_CustomExceptions.ipynb#W3sZmlsZQ%3D%3D?line=15'>16</a>\u001b[0m     \u001b[39mraise\u001b[39;00m ServerError()\n\u001b[1;32m---> <a href='vscode-notebook-cell:/c%3A/Users/cnp/OneDrive%20-%20H%C3%B6gskolan%20Dalarna/learn/skills/Python%20developer/2.%20Python%20Essential%20Training/python-essential-training/exercise_files/08_03_CustomExceptions.ipynb#W3sZmlsZQ%3D%3D?line=17'>18</a>\u001b[0m raiseServerError()\n",
      "\u001b[1;32mc:\\Users\\cnp\\OneDrive - Högskolan Dalarna\\learn\\skills\\Python developer\\2. Python Essential Training\\python-essential-training\\exercise_files\\08_03_CustomExceptions.ipynb Cell 4\u001b[0m in \u001b[0;36mraiseServerError\u001b[1;34m()\u001b[0m\n\u001b[0;32m     <a href='vscode-notebook-cell:/c%3A/Users/cnp/OneDrive%20-%20H%C3%B6gskolan%20Dalarna/learn/skills/Python%20developer/2.%20Python%20Essential%20Training/python-essential-training/exercise_files/08_03_CustomExceptions.ipynb#W3sZmlsZQ%3D%3D?line=14'>15</a>\u001b[0m \u001b[39mdef\u001b[39;00m \u001b[39mraiseServerError\u001b[39m():\n\u001b[1;32m---> <a href='vscode-notebook-cell:/c%3A/Users/cnp/OneDrive%20-%20H%C3%B6gskolan%20Dalarna/learn/skills/Python%20developer/2.%20Python%20Essential%20Training/python-essential-training/exercise_files/08_03_CustomExceptions.ipynb#W3sZmlsZQ%3D%3D?line=15'>16</a>\u001b[0m     \u001b[39mraise\u001b[39;00m ServerError()\n",
      "\u001b[1;31mServerError\u001b[0m: Status code: 500 and message is: The server messed up!"
     ]
    }
   ],
   "source": [
    "class HttpException(Exception):\n",
    "    statusCode = None\n",
    "    message = None\n",
    "    def __init__(self):\n",
    "        super().__init__(f'Status code: {self.statusCode} and message is: {self.message}')\n",
    "        \n",
    "class NotFound(HttpException):\n",
    "    statusCode = 404\n",
    "    message = 'Resource not found'\n",
    "    \n",
    "class ServerError(HttpException):\n",
    "    statusCode = 500\n",
    "    message = 'The server messed up!'\n",
    "    \n",
    "def raiseServerError():\n",
    "    raise ServerError()\n",
    "    \n",
    "raiseServerError()"
   ]
  },
  {
   "cell_type": "code",
   "execution_count": null,
   "id": "2eabeda5",
   "metadata": {},
   "outputs": [],
   "source": []
  }
 ],
 "metadata": {
  "kernelspec": {
   "display_name": "Python 3.8.11 ('ML')",
   "language": "python",
   "name": "python3"
  },
  "language_info": {
   "codemirror_mode": {
    "name": "ipython",
    "version": 3
   },
   "file_extension": ".py",
   "mimetype": "text/x-python",
   "name": "python",
   "nbconvert_exporter": "python",
   "pygments_lexer": "ipython3",
   "version": "3.8.11"
  },
  "vscode": {
   "interpreter": {
    "hash": "10c605a39ba1d0bb696105a85276d200a87e36acba5a0bef6dcdd9b73afc6e7a"
   }
  }
 },
 "nbformat": 4,
 "nbformat_minor": 5
}

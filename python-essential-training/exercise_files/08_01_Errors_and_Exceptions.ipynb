{
 "cells": [
  {
   "cell_type": "markdown",
   "id": "7d005096",
   "metadata": {},
   "source": [
    "## Errors and Exceptions"
   ]
  },
  {
   "cell_type": "code",
   "execution_count": 1,
   "id": "926640b3",
   "metadata": {},
   "outputs": [
    {
     "ename": "ZeroDivisionError",
     "evalue": "division by zero",
     "output_type": "error",
     "traceback": [
      "\u001b[1;31m---------------------------------------------------------------------------\u001b[0m",
      "\u001b[1;31mZeroDivisionError\u001b[0m                         Traceback (most recent call last)",
      "\u001b[1;32mc:\\Users\\cnp\\OneDrive - Högskolan Dalarna\\learn\\skills\\Python developer\\2. Python Essential Training\\python-essential-training\\exercise_files\\08_01_Errors_and_Exceptions.ipynb Cell 2\u001b[0m in \u001b[0;36m<cell line: 4>\u001b[1;34m()\u001b[0m\n\u001b[0;32m      <a href='vscode-notebook-cell:/c%3A/Users/cnp/OneDrive%20-%20H%C3%B6gskolan%20Dalarna/learn/skills/Python%20developer/2.%20Python%20Essential%20Training/python-essential-training/exercise_files/08_01_Errors_and_Exceptions.ipynb#W1sZmlsZQ%3D%3D?line=0'>1</a>\u001b[0m \u001b[39mdef\u001b[39;00m \u001b[39mcauseError\u001b[39m():\n\u001b[0;32m      <a href='vscode-notebook-cell:/c%3A/Users/cnp/OneDrive%20-%20H%C3%B6gskolan%20Dalarna/learn/skills/Python%20developer/2.%20Python%20Essential%20Training/python-essential-training/exercise_files/08_01_Errors_and_Exceptions.ipynb#W1sZmlsZQ%3D%3D?line=1'>2</a>\u001b[0m     \u001b[39mreturn\u001b[39;00m \u001b[39m1\u001b[39m\u001b[39m/\u001b[39m\u001b[39m0\u001b[39m\n\u001b[1;32m----> <a href='vscode-notebook-cell:/c%3A/Users/cnp/OneDrive%20-%20H%C3%B6gskolan%20Dalarna/learn/skills/Python%20developer/2.%20Python%20Essential%20Training/python-essential-training/exercise_files/08_01_Errors_and_Exceptions.ipynb#W1sZmlsZQ%3D%3D?line=3'>4</a>\u001b[0m causeError()\n",
      "\u001b[1;32mc:\\Users\\cnp\\OneDrive - Högskolan Dalarna\\learn\\skills\\Python developer\\2. Python Essential Training\\python-essential-training\\exercise_files\\08_01_Errors_and_Exceptions.ipynb Cell 2\u001b[0m in \u001b[0;36mcauseError\u001b[1;34m()\u001b[0m\n\u001b[0;32m      <a href='vscode-notebook-cell:/c%3A/Users/cnp/OneDrive%20-%20H%C3%B6gskolan%20Dalarna/learn/skills/Python%20developer/2.%20Python%20Essential%20Training/python-essential-training/exercise_files/08_01_Errors_and_Exceptions.ipynb#W1sZmlsZQ%3D%3D?line=0'>1</a>\u001b[0m \u001b[39mdef\u001b[39;00m \u001b[39mcauseError\u001b[39m():\n\u001b[1;32m----> <a href='vscode-notebook-cell:/c%3A/Users/cnp/OneDrive%20-%20H%C3%B6gskolan%20Dalarna/learn/skills/Python%20developer/2.%20Python%20Essential%20Training/python-essential-training/exercise_files/08_01_Errors_and_Exceptions.ipynb#W1sZmlsZQ%3D%3D?line=1'>2</a>\u001b[0m     \u001b[39mreturn\u001b[39;00m \u001b[39m1\u001b[39;49m\u001b[39m/\u001b[39;49m\u001b[39m0\u001b[39;49m\n",
      "\u001b[1;31mZeroDivisionError\u001b[0m: division by zero"
     ]
    }
   ],
   "source": [
    "def causeError():\n",
    "    return 1/0\n",
    "\n",
    "causeError()"
   ]
  },
  {
   "cell_type": "code",
   "execution_count": 2,
   "id": "145a7c4e",
   "metadata": {},
   "outputs": [
    {
     "ename": "ZeroDivisionError",
     "evalue": "division by zero",
     "output_type": "error",
     "traceback": [
      "\u001b[1;31m---------------------------------------------------------------------------\u001b[0m",
      "\u001b[1;31mZeroDivisionError\u001b[0m                         Traceback (most recent call last)",
      "\u001b[1;32mc:\\Users\\cnp\\OneDrive - Högskolan Dalarna\\learn\\skills\\Python developer\\2. Python Essential Training\\python-essential-training\\exercise_files\\08_01_Errors_and_Exceptions.ipynb Cell 3\u001b[0m in \u001b[0;36m<cell line: 7>\u001b[1;34m()\u001b[0m\n\u001b[0;32m      <a href='vscode-notebook-cell:/c%3A/Users/cnp/OneDrive%20-%20H%C3%B6gskolan%20Dalarna/learn/skills/Python%20developer/2.%20Python%20Essential%20Training/python-essential-training/exercise_files/08_01_Errors_and_Exceptions.ipynb#W2sZmlsZQ%3D%3D?line=3'>4</a>\u001b[0m \u001b[39mdef\u001b[39;00m \u001b[39mcallCauseError\u001b[39m():\n\u001b[0;32m      <a href='vscode-notebook-cell:/c%3A/Users/cnp/OneDrive%20-%20H%C3%B6gskolan%20Dalarna/learn/skills/Python%20developer/2.%20Python%20Essential%20Training/python-essential-training/exercise_files/08_01_Errors_and_Exceptions.ipynb#W2sZmlsZQ%3D%3D?line=4'>5</a>\u001b[0m     \u001b[39mreturn\u001b[39;00m causeError()\n\u001b[1;32m----> <a href='vscode-notebook-cell:/c%3A/Users/cnp/OneDrive%20-%20H%C3%B6gskolan%20Dalarna/learn/skills/Python%20developer/2.%20Python%20Essential%20Training/python-essential-training/exercise_files/08_01_Errors_and_Exceptions.ipynb#W2sZmlsZQ%3D%3D?line=6'>7</a>\u001b[0m callCauseError()\n",
      "\u001b[1;32mc:\\Users\\cnp\\OneDrive - Högskolan Dalarna\\learn\\skills\\Python developer\\2. Python Essential Training\\python-essential-training\\exercise_files\\08_01_Errors_and_Exceptions.ipynb Cell 3\u001b[0m in \u001b[0;36mcallCauseError\u001b[1;34m()\u001b[0m\n\u001b[0;32m      <a href='vscode-notebook-cell:/c%3A/Users/cnp/OneDrive%20-%20H%C3%B6gskolan%20Dalarna/learn/skills/Python%20developer/2.%20Python%20Essential%20Training/python-essential-training/exercise_files/08_01_Errors_and_Exceptions.ipynb#W2sZmlsZQ%3D%3D?line=3'>4</a>\u001b[0m \u001b[39mdef\u001b[39;00m \u001b[39mcallCauseError\u001b[39m():\n\u001b[1;32m----> <a href='vscode-notebook-cell:/c%3A/Users/cnp/OneDrive%20-%20H%C3%B6gskolan%20Dalarna/learn/skills/Python%20developer/2.%20Python%20Essential%20Training/python-essential-training/exercise_files/08_01_Errors_and_Exceptions.ipynb#W2sZmlsZQ%3D%3D?line=4'>5</a>\u001b[0m     \u001b[39mreturn\u001b[39;00m causeError()\n",
      "\u001b[1;32mc:\\Users\\cnp\\OneDrive - Högskolan Dalarna\\learn\\skills\\Python developer\\2. Python Essential Training\\python-essential-training\\exercise_files\\08_01_Errors_and_Exceptions.ipynb Cell 3\u001b[0m in \u001b[0;36mcauseError\u001b[1;34m()\u001b[0m\n\u001b[0;32m      <a href='vscode-notebook-cell:/c%3A/Users/cnp/OneDrive%20-%20H%C3%B6gskolan%20Dalarna/learn/skills/Python%20developer/2.%20Python%20Essential%20Training/python-essential-training/exercise_files/08_01_Errors_and_Exceptions.ipynb#W2sZmlsZQ%3D%3D?line=0'>1</a>\u001b[0m \u001b[39mdef\u001b[39;00m \u001b[39mcauseError\u001b[39m():\n\u001b[1;32m----> <a href='vscode-notebook-cell:/c%3A/Users/cnp/OneDrive%20-%20H%C3%B6gskolan%20Dalarna/learn/skills/Python%20developer/2.%20Python%20Essential%20Training/python-essential-training/exercise_files/08_01_Errors_and_Exceptions.ipynb#W2sZmlsZQ%3D%3D?line=1'>2</a>\u001b[0m     \u001b[39mreturn\u001b[39;00m \u001b[39m1\u001b[39;49m\u001b[39m/\u001b[39;49m\u001b[39m0\u001b[39;49m\n",
      "\u001b[1;31mZeroDivisionError\u001b[0m: division by zero"
     ]
    }
   ],
   "source": [
    "def causeError():\n",
    "    return 1/0\n",
    "\n",
    "def callCauseError():\n",
    "    return causeError()\n",
    "\n",
    "callCauseError()"
   ]
  },
  {
   "cell_type": "markdown",
   "id": "4a0bef51",
   "metadata": {},
   "source": [
    "### Try / Except"
   ]
  },
  {
   "cell_type": "code",
   "execution_count": 3,
   "id": "bced3e74",
   "metadata": {},
   "outputs": [
    {
     "name": "stdout",
     "output_type": "stream",
     "text": [
      "<class 'ZeroDivisionError'>\n"
     ]
    }
   ],
   "source": [
    "try:\n",
    "    1/0\n",
    "except Exception as e:\n",
    "    print(type(e))"
   ]
  },
  {
   "cell_type": "code",
   "execution_count": null,
   "id": "9863cebc",
   "metadata": {},
   "outputs": [],
   "source": []
  }
 ],
 "metadata": {
  "kernelspec": {
   "display_name": "Python 3.8.11 ('ML')",
   "language": "python",
   "name": "python3"
  },
  "language_info": {
   "codemirror_mode": {
    "name": "ipython",
    "version": 3
   },
   "file_extension": ".py",
   "mimetype": "text/x-python",
   "name": "python",
   "nbconvert_exporter": "python",
   "pygments_lexer": "ipython3",
   "version": "3.8.11"
  },
  "vscode": {
   "interpreter": {
    "hash": "10c605a39ba1d0bb696105a85276d200a87e36acba5a0bef6dcdd9b73afc6e7a"
   }
  }
 },
 "nbformat": 4,
 "nbformat_minor": 5
}
